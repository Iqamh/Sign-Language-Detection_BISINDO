{
 "cells": [
  {
   "cell_type": "code",
   "execution_count": 2,
   "id": "1a43bae3-c72b-49d3-bb9d-3767cefc16db",
   "metadata": {},
   "outputs": [],
   "source": [
    "import cv2\n",
    "import mediapipe as mp\n",
    "import tkinter as tk\n",
    "from tkinter import ttk\n",
    "from PIL import Image, ImageTk"
   ]
  },
  {
   "cell_type": "code",
   "execution_count": 3,
   "id": "51415479-dd84-49c4-96b7-7e460876e38c",
   "metadata": {},
   "outputs": [],
   "source": [
    "mp_drawing = mp.solutions.drawing_utils\n",
    "mp_hands = mp.solutions.hands"
   ]
  },
  {
   "cell_type": "code",
   "execution_count": 4,
   "id": "d5b8e669-1f81-4c8e-9546-8f7da2c09fd4",
   "metadata": {},
   "outputs": [],
   "source": [
    "import cv2\n",
    "import mediapipe as mp\n",
    "import numpy as np\n",
    "\n",
    "mp_hands = mp.solutions.hands\n",
    "mp_drawing = mp.solutions.drawing_utils\n",
    "\n",
    "cv2.namedWindow(\"Hand Control\", cv2.WINDOW_NORMAL)\n",
    "cv2.resizeWindow(\"Hand Control\", 1280, 720)\n"
   ]
  },
  {
   "cell_type": "code",
   "execution_count": 5,
   "id": "ede48a2a-e272-4735-8ed8-c4996c05195c",
   "metadata": {},
   "outputs": [],
   "source": [
    "def is_iloveyou_gesture(hand_landmarks):\n",
    "    thumb_tip = hand_landmarks.landmark[mp_hands.HandLandmark.THUMB_TIP]\n",
    "    index_tip = hand_landmarks.landmark[mp_hands.HandLandmark.INDEX_FINGER_TIP]\n",
    "    middle_tip = hand_landmarks.landmark[mp_hands.HandLandmark.MIDDLE_FINGER_TIP]\n",
    "    ring_tip = hand_landmarks.landmark[mp_hands.HandLandmark.RING_FINGER_TIP]\n",
    "    pinky_tip = hand_landmarks.landmark[mp_hands.HandLandmark.PINKY_TIP]\n",
    "\n",
    "    return (thumb_tip.y < hand_landmarks.landmark[mp_hands.HandLandmark.THUMB_IP].y and\n",
    "            index_tip.y < hand_landmarks.landmark[mp_hands.HandLandmark.INDEX_FINGER_PIP].y and\n",
    "            middle_tip.y > hand_landmarks.landmark[mp_hands.HandLandmark.MIDDLE_FINGER_PIP].y and\n",
    "            ring_tip.y > hand_landmarks.landmark[mp_hands.HandLandmark.RING_FINGER_PIP].y and\n",
    "            pinky_tip.y < hand_landmarks.landmark[mp_hands.HandLandmark.PINKY_PIP].y)\n"
   ]
  },
  {
   "cell_type": "code",
   "execution_count": 6,
   "id": "1ed1457b-8664-44ef-bdd8-3bc938232aa3",
   "metadata": {},
   "outputs": [],
   "source": [
    "def draw_menu(image, x, y):\n",
    "    button_width, button_height = 150, 50\n",
    "    cv2.rectangle(image, (x, y), (x + button_width, y + button_height), (0, 255, 0), -1)\n",
    "    cv2.rectangle(image, (x, y + button_height + 10), (x + button_width, y + 2 * button_height + 10), (255, 0, 0), -1)\n",
    "    cv2.putText(image, 'Button 1', (x + 10, y + 30), cv2.FONT_HERSHEY_SIMPLEX, 1, (255, 255, 255), 2, cv2.LINE_AA)\n",
    "    cv2.putText(image, 'Button 2', (x + 10, y + button_height + 40), cv2.FONT_HERSHEY_SIMPLEX, 1, (255, 255, 255), 2, cv2.LINE_AA)\n",
    "    return (x, y, button_width, button_height)\n",
    "\n",
    "def check_button_hover(hand_landmarks, button_coords, frame, clicked_buttons):\n",
    "    index_tip = hand_landmarks.landmark[mp_hands.HandLandmark.INDEX_FINGER_TIP]\n",
    "    height, width, _ = frame.shape\n",
    "    x, y = int(index_tip.x * width), int(index_tip.y * height)\n",
    "    \n",
    "    x1, y1, bw, bh = button_coords\n",
    "    if x1 < x < x1 + bw and y1 < y < y1 + bh and not clicked_buttons[0]:\n",
    "        print(\"Button 1 Pressed\")\n",
    "        clicked_buttons[0] = True\n",
    "        return (255, 0, 0)  # Blue color in BGR format\n",
    "    elif x1 < x < x1 + bw and y1 + bh + 10 < y < y1 + 2 * bh + 10 and not clicked_buttons[1]:\n",
    "        print(\"Button 2 Pressed\")\n",
    "        clicked_buttons[1] = True\n",
    "        return (0, 0, 255)  # Red color in BGR format\n",
    "    return None\n"
   ]
  },
  {
   "cell_type": "code",
   "execution_count": 7,
   "id": "a7cc4778-d41d-42a6-b4e8-f76f32e6e9e9",
   "metadata": {},
   "outputs": [],
   "source": [
    "def draw_hand_landmarks(image, hand_landmarks, landmark_color, connection_color):\n",
    "    for landmark in hand_landmarks.landmark:\n",
    "        h, w, _ = image.shape\n",
    "        x, y = int(landmark.x * w), int(landmark.y * h)\n",
    "        cv2.circle(image, (x, y), 5, landmark_color, -1)\n",
    "    \n",
    "    for connection in mp_hands.HAND_CONNECTIONS:\n",
    "        start_idx, end_idx = connection\n",
    "        start_landmark = hand_landmarks.landmark[start_idx]\n",
    "        end_landmark = hand_landmarks.landmark[end_idx]\n",
    "        start_x, start_y = int(start_landmark.x * image.shape[1]), int(start_landmark.y * image.shape[0])\n",
    "        end_x, end_y = int(end_landmark.x * image.shape[1]), int(end_landmark.y * image.shape[0])\n",
    "        cv2.line(image, (start_x, start_y), (end_x, end_y), connection_color, 2)\n"
   ]
  },
  {
   "cell_type": "code",
   "execution_count": 8,
   "id": "bc1c5f0c-eca1-41cc-ac52-aa4de5b5fd5e",
   "metadata": {},
   "outputs": [
    {
     "name": "stderr",
     "output_type": "stream",
     "text": [
      "c:\\Python310\\lib\\site-packages\\google\\protobuf\\symbol_database.py:55: UserWarning: SymbolDatabase.GetPrototype() is deprecated. Please use message_factory.GetMessageClass() instead. SymbolDatabase.GetPrototype() will be removed soon.\n",
      "  warnings.warn('SymbolDatabase.GetPrototype() is deprecated. Please '\n"
     ]
    },
    {
     "name": "stdout",
     "output_type": "stream",
     "text": [
      "Button 1 Pressed\n",
      "Button 1 Pressed\n",
      "Button 1 Pressed\n"
     ]
    },
    {
     "ename": "KeyboardInterrupt",
     "evalue": "",
     "output_type": "error",
     "traceback": [
      "\u001b[1;31m---------------------------------------------------------------------------\u001b[0m",
      "\u001b[1;31mKeyboardInterrupt\u001b[0m                         Traceback (most recent call last)",
      "Cell \u001b[1;32mIn[8], line 51\u001b[0m\n\u001b[0;32m     48\u001b[0m     cv2\u001b[39m.\u001b[39mdestroyAllWindows()\n\u001b[0;32m     50\u001b[0m \u001b[39mif\u001b[39;00m \u001b[39m__name__\u001b[39m \u001b[39m==\u001b[39m \u001b[39m\"\u001b[39m\u001b[39m__main__\u001b[39m\u001b[39m\"\u001b[39m:\n\u001b[1;32m---> 51\u001b[0m     main()\n",
      "Cell \u001b[1;32mIn[8], line 18\u001b[0m, in \u001b[0;36mmain\u001b[1;34m()\u001b[0m\n\u001b[0;32m     16\u001b[0m image \u001b[39m=\u001b[39m cv2\u001b[39m.\u001b[39mflip(image, \u001b[39m1\u001b[39m)\n\u001b[0;32m     17\u001b[0m image\u001b[39m.\u001b[39mflags\u001b[39m.\u001b[39mwriteable \u001b[39m=\u001b[39m \u001b[39mFalse\u001b[39;00m\n\u001b[1;32m---> 18\u001b[0m results \u001b[39m=\u001b[39m hands\u001b[39m.\u001b[39;49mprocess(image)\n\u001b[0;32m     19\u001b[0m image\u001b[39m.\u001b[39mflags\u001b[39m.\u001b[39mwriteable \u001b[39m=\u001b[39m \u001b[39mTrue\u001b[39;00m\n\u001b[0;32m     20\u001b[0m image \u001b[39m=\u001b[39m cv2\u001b[39m.\u001b[39mcvtColor(image, cv2\u001b[39m.\u001b[39mCOLOR_RGB2BGR)\n",
      "File \u001b[1;32mc:\\Python310\\lib\\site-packages\\mediapipe\\python\\solutions\\hands.py:153\u001b[0m, in \u001b[0;36mHands.process\u001b[1;34m(self, image)\u001b[0m\n\u001b[0;32m    132\u001b[0m \u001b[39mdef\u001b[39;00m \u001b[39mprocess\u001b[39m(\u001b[39mself\u001b[39m, image: np\u001b[39m.\u001b[39mndarray) \u001b[39m-\u001b[39m\u001b[39m>\u001b[39m NamedTuple:\n\u001b[0;32m    133\u001b[0m \u001b[39m  \u001b[39m\u001b[39m\"\"\"Processes an RGB image and returns the hand landmarks and handedness of each detected hand.\u001b[39;00m\n\u001b[0;32m    134\u001b[0m \n\u001b[0;32m    135\u001b[0m \u001b[39m  Args:\u001b[39;00m\n\u001b[1;32m   (...)\u001b[0m\n\u001b[0;32m    150\u001b[0m \u001b[39m         right hand) of the detected hand.\u001b[39;00m\n\u001b[0;32m    151\u001b[0m \u001b[39m  \"\"\"\u001b[39;00m\n\u001b[1;32m--> 153\u001b[0m   \u001b[39mreturn\u001b[39;00m \u001b[39msuper\u001b[39;49m()\u001b[39m.\u001b[39;49mprocess(input_data\u001b[39m=\u001b[39;49m{\u001b[39m'\u001b[39;49m\u001b[39mimage\u001b[39;49m\u001b[39m'\u001b[39;49m: image})\n",
      "File \u001b[1;32mc:\\Python310\\lib\\site-packages\\mediapipe\\python\\solution_base.py:340\u001b[0m, in \u001b[0;36mSolutionBase.process\u001b[1;34m(self, input_data)\u001b[0m\n\u001b[0;32m    334\u001b[0m   \u001b[39melse\u001b[39;00m:\n\u001b[0;32m    335\u001b[0m     \u001b[39mself\u001b[39m\u001b[39m.\u001b[39m_graph\u001b[39m.\u001b[39madd_packet_to_input_stream(\n\u001b[0;32m    336\u001b[0m         stream\u001b[39m=\u001b[39mstream_name,\n\u001b[0;32m    337\u001b[0m         packet\u001b[39m=\u001b[39m\u001b[39mself\u001b[39m\u001b[39m.\u001b[39m_make_packet(input_stream_type,\n\u001b[0;32m    338\u001b[0m                                  data)\u001b[39m.\u001b[39mat(\u001b[39mself\u001b[39m\u001b[39m.\u001b[39m_simulated_timestamp))\n\u001b[1;32m--> 340\u001b[0m \u001b[39mself\u001b[39;49m\u001b[39m.\u001b[39;49m_graph\u001b[39m.\u001b[39;49mwait_until_idle()\n\u001b[0;32m    341\u001b[0m \u001b[39m# Create a NamedTuple object where the field names are mapping to the graph\u001b[39;00m\n\u001b[0;32m    342\u001b[0m \u001b[39m# output stream names.\u001b[39;00m\n\u001b[0;32m    343\u001b[0m \u001b[39mif\u001b[39;00m \u001b[39mself\u001b[39m\u001b[39m.\u001b[39m_output_stream_type_info \u001b[39mis\u001b[39;00m \u001b[39mNone\u001b[39;00m:\n",
      "\u001b[1;31mKeyboardInterrupt\u001b[0m: "
     ]
    },
    {
     "ename": "",
     "evalue": "",
     "output_type": "error",
     "traceback": [
      "\u001b[1;31mThe Kernel crashed while executing code in the the current cell or a previous cell. Please review the code in the cell(s) to identify a possible cause of the failure. Click <a href='https://aka.ms/vscodeJupyterKernelCrash'>here</a> for more info. View Jupyter <a href='command:jupyter.viewOutput'>log</a> for further details."
     ]
    }
   ],
   "source": [
    "def main():\n",
    "    cap = cv2.VideoCapture(0)\n",
    "    menu_displayed = False\n",
    "    menu_coords = None\n",
    "    clicked_buttons = [False, False]\n",
    "    landmark_color = (0, 255, 0)  # Default color: green\n",
    "    connection_color = (255, 255, 255)  # Default connection color: white\n",
    "\n",
    "    with mp_hands.Hands(min_detection_confidence=0.8, min_tracking_confidence=0.5) as hands:\n",
    "        while cap.isOpened():\n",
    "            ret, frame = cap.read()\n",
    "            if not ret:\n",
    "                break\n",
    "            \n",
    "            image = cv2.cvtColor(frame, cv2.COLOR_BGR2RGB)\n",
    "            image = cv2.flip(image, 1)\n",
    "            image.flags.writeable = False\n",
    "            results = hands.process(image)\n",
    "            image.flags.writeable = True\n",
    "            image = cv2.cvtColor(image, cv2.COLOR_RGB2BGR)\n",
    "            \n",
    "            if results.multi_hand_landmarks:\n",
    "                for hand_landmarks in results.multi_hand_landmarks:\n",
    "                    color = None\n",
    "                    if is_iloveyou_gesture(hand_landmarks):\n",
    "                        thumb_tip = hand_landmarks.landmark[mp_hands.HandLandmark.THUMB_TIP]\n",
    "                        x, y = int(thumb_tip.x * frame.shape[1]), int(thumb_tip.y * frame.shape[0])\n",
    "                        menu_coords = draw_menu(image, x, y)\n",
    "                        menu_displayed = True\n",
    "                        clicked_buttons = [False, False]  # Reset clicked buttons when menu is displayed\n",
    "                    \n",
    "                    if menu_displayed and menu_coords:\n",
    "                        color = check_button_hover(hand_landmarks, menu_coords, frame, clicked_buttons)\n",
    "                    \n",
    "                    # Set colors based on button click\n",
    "                    if color:\n",
    "                        landmark_color = color\n",
    "                        connection_color = (0, 255, 0) if color == (255, 0, 0) else (255, 0, 0)\n",
    "                    \n",
    "                    draw_hand_landmarks(image, hand_landmarks, landmark_color, connection_color)\n",
    "            \n",
    "            cv2.imshow(\"Hand Control\", image)\n",
    "            \n",
    "            if cv2.waitKey(10) & 0xFF == ord('q'):\n",
    "                break\n",
    "\n",
    "    cap.release()\n",
    "    cv2.destroyAllWindows()\n",
    "\n",
    "if __name__ == \"__main__\":\n",
    "    main()\n"
   ]
  },
  {
   "cell_type": "code",
   "execution_count": null,
   "id": "179d09c8-86b4-4476-ab59-fa7fdb5474ff",
   "metadata": {},
   "outputs": [],
   "source": []
  }
 ],
 "metadata": {
  "kernelspec": {
   "display_name": "Python 3.10.7 64-bit",
   "language": "python",
   "name": "python3"
  },
  "language_info": {
   "codemirror_mode": {
    "name": "ipython",
    "version": 3
   },
   "file_extension": ".py",
   "mimetype": "text/x-python",
   "name": "python",
   "nbconvert_exporter": "python",
   "pygments_lexer": "ipython3",
   "version": "3.10.7"
  },
  "vscode": {
   "interpreter": {
    "hash": "369f2c481f4da34e4445cda3fffd2e751bd1c4d706f27375911949ba6bb62e1c"
   }
  }
 },
 "nbformat": 4,
 "nbformat_minor": 5
}
